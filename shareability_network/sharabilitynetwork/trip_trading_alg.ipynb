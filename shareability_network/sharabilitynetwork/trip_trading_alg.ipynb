{
 "cells": [
  {
   "cell_type": "code",
   "execution_count": 151,
   "metadata": {},
   "outputs": [],
   "source": [
    "import csv\n",
    "import sys\n",
    "import numpy\n",
    "import networkx as nx\n",
    "import pickle\n",
    "import random\n",
    "import itertools\n",
    "import matplotlib.pyplot as plt"
   ]
  },
  {
   "cell_type": "code",
   "execution_count": 152,
   "metadata": {},
   "outputs": [],
   "source": [
    "'''\n",
    "performs trip trading algorithm as described in research doc\n",
    "@:param Graph G - sharability network\n",
    "@:param float market_split - between 0-1, denoting the share of the market\n",
    "@:param matching_alg: choose from max_card_matching, max_weight_matching, max_profit_matching \n",
    "'''\n",
    "def trip_trade(G, trip_info, market_split, matching_alg):\n",
    "    company1, company2 = split_graph(G, market_split)\n",
    "\n",
    "    max_matching1 = nx.max_weight_matching(company1, weight=matching_alg)\n",
    "    max_matching2 = nx.max_weight_matching(company2, weight=matching_alg)\n",
    "    profits1 = calc_profits(company1, max_matching1)\n",
    "    profits2 = calc_profits(company2, max_matching2)\n",
    "    VKT1 = calc_VKT(company1, max_matching1, trip_info)\n",
    "    VKT2 = calc_VKT(company2, max_matching2, trip_info)\n",
    "    matched_trips1, matched_trips2 = [len(max_matching1)], [len(max_matching2)]\n",
    "    profits_iter1, profits_iter2 = [profits1], [profits2]\n",
    "    VKTs1, VKTs2 = [VKT1], [VKT2]\n",
    "    # add nodes that we need to visit\n",
    "\n",
    "    to_visit_1 = company1.nodes - set(itertools.chain(*max_matching1))\n",
    "    to_visit_2 = company2.nodes - set(itertools.chain(*max_matching2))\n",
    "\n",
    "#     print(\"matched trips 1:\", matched_trips1)\n",
    "#     print(\"matched trips 2: \", matched_trips2)\n",
    "#     print(\"profits 1:\", profits1)\n",
    "#     print(\"profits 2:\", profits2)\n",
    "    iters = 0\n",
    "\n",
    "    while to_visit_1 and to_visit_2:\n",
    "#         print(\"iter:\", iters)\n",
    "        if to_visit_1:\n",
    "#             print('A -> B')\n",
    "            company1, company2 = do_iteration(G, company1, company2, to_visit_1, max_matching1, max_matching2,  trip_info, matching_alg,\\\n",
    "                                              [matched_trips1, matched_trips2], [profits_iter1, profits_iter2], [VKTs1, VKTs2])\n",
    "        if to_visit_2:\n",
    "#             print('B -> A')\n",
    "            company2, company1 = do_iteration(G, company2, company1, to_visit_2, max_matching2, max_matching1, trip_info, matching_alg, \\\n",
    "                                              [matched_trips2, matched_trips1], [profits_iter2, profits_iter1], [VKTs2, VKTs1])\n",
    "        iters += 1\n",
    "\n",
    "\n",
    "    results = {}\n",
    "    results['profits1'] = profits_iter1\n",
    "    results['profits2'] = profits_iter2\n",
    "    results['matchigs1'] = matched_trips1\n",
    "    results['matchings2'] = matched_trips2\n",
    "    results['VKT1'] = VKTs1\n",
    "    results['VKT2'] = VKTs2\n",
    "    results['iters'] = iters\n",
    "    return results"
   ]
  },
  {
   "cell_type": "code",
   "execution_count": 153,
   "metadata": {},
   "outputs": [],
   "source": [
    "'''\n",
    "@:returns a tuple of graphs, split by split factor.\n",
    "first graph has split_factor*graph nodes, second has the remainder\n",
    "'''\n",
    "def split_graph(G,split_factor):\n",
    "    node_list = list(G.nodes)\n",
    "    number_nodes_subgraph = int(len(node_list) * split_factor)\n",
    "    sub_node_list_1 = []\n",
    "    count = 0\n",
    "    while count <= number_nodes_subgraph:\n",
    "        a = random.randint(0,len(node_list) - 1)\n",
    "        node = node_list[a]\n",
    "        if node in sub_node_list_1:\n",
    "            continue\n",
    "        else:\n",
    "            sub_node_list_1.append(node)\n",
    "            count += 1\n",
    "    #print(sub_node_list_1)\n",
    "    sub_node_list_2 = list(set(node_list) - set(sub_node_list_1))\n",
    "    #print(sub_node_list_2)\n",
    "#\n",
    "    sub_graph_1 = G.subgraph(sub_node_list_1).copy()\n",
    "    sub_graph_2 = G.subgraph(sub_node_list_2).copy()\n",
    "#     # results1 = nx.max_weight_matching(sub_graph_1,weight='distance')\n",
    "#     # pickle.dump(results1, open(\"r2.p\", \"wb\"))\n",
    "#     # results2 = nx.max_weight_matching(sub_graph_2,weight='distance')\n",
    "#     # pickle.dump(results2, open(\"r3.p\", \"wb\"))\n",
    "    return sub_graph_1, sub_graph_2"
   ]
  },
  {
   "cell_type": "code",
   "execution_count": 154,
   "metadata": {},
   "outputs": [],
   "source": [
    "def do_iteration(G, companyA, companyB, queue, initial_matchingA, initial_matchingB, trip_info, matching_alg, match_lists, profit_lists, VKTs):\n",
    "    new_node = queue.pop()\n",
    "#     print(\"node in queue is in graph:\",  new_node in companyA.nodes)\n",
    "    new_nodesA = set(companyA.nodes) - {new_node}\n",
    "    new_nodesB = set(companyB.nodes).union({new_node})\n",
    "    compAcopy = G.subgraph(new_nodesA)\n",
    "    compBcopy = G.subgraph(new_nodesB)\n",
    "\n",
    "    dist = int(trip_info[new_node][4]) / 1609.34\n",
    "    time = int(trip_info[new_node][3]) / 60\n",
    "    # p1\n",
    "    companyA_price = max(5.8, .80 * dist + 0.28 * time + 2.30)\n",
    "    new_rev = companyA_price\n",
    "    # new_max_matchingB = nx.max_weight_matching(compBcopy, weight=matching_alg)\n",
    "    # change line above to be new matching algorithm\n",
    "#     print(\"initial matching:\", initial_matchingB)\n",
    "    new_max_matchingB = greedy_max_matching(compBcopy, initial_matchingB, matching_alg, new_node)\n",
    "    matching_set = set(itertools.chain(*new_max_matchingB))\n",
    "    # only possible to trade if new node is in matchings for B\n",
    "    if new_node in matching_set:\n",
    "        for node1, node2 in new_max_matchingB:\n",
    "            if node1 == new_node or node2 == new_node:\n",
    "                new_rev = compBcopy[node1][node2]['profit']\n",
    "    if new_rev < companyA_price:\n",
    "#         print(\"took trip\")\n",
    "#         print(\"new_node\", new_node)\n",
    "#         print(\"difference: \", new_max_matchingB - initial_matchingB)\n",
    "        initial_matchingB.clear()\n",
    "        initial_matchingB.update(new_max_matchingB)\n",
    "        new_match = initial_matchingA.copy()\n",
    "        [new_match.discard(edge) for edge in initial_matchingA if new_node in edge]\n",
    "        initial_matchingA.clear()\n",
    "        initial_matchingA.update(new_match)\n",
    "        profitsA = calc_profits(compAcopy, initial_matchingA)\n",
    "        profitsB = calc_profits(compBcopy, initial_matchingB)\n",
    "        VKTa = calc_VKT(compAcopy, initial_matchingA, trip_info)\n",
    "        VKTb = calc_VKT(compBcopy, new_max_matchingB, trip_info)\n",
    "        match_lists[0].append(len(initial_matchingA))\n",
    "        match_lists[1].append(len(new_max_matchingB))\n",
    "        profit_lists[0].append(profitsA)\n",
    "        profit_lists[1].append(profitsB)\n",
    "        VKTs[0].append(VKTa)\n",
    "        VKTs[1].append(VKTb)\n",
    "        return compAcopy, compBcopy\n",
    "\n",
    "    # we did not take the trip and therefore nothing changes\n",
    "    match_lists[0].append(match_lists[0][-1])\n",
    "    match_lists[1].append(match_lists[1][-1])\n",
    "    profit_lists[0].append(profit_lists[0][-1])\n",
    "    profit_lists[1].append(profit_lists[1][-1])\n",
    "    VKTs[0].append(VKTs[0][-1])\n",
    "    VKTs[1].append(VKTs[1][-1])\n",
    "    return companyA, companyB\n",
    "\n",
    "\n",
    "def greedy_max_matching(graph, inital_matching, matching_alg, new_trip):\n",
    "    candidates = list(graph.neighbors(new_trip))\n",
    "    new_matching = inital_matching.copy()\n",
    "    if not candidates: return new_matching\n",
    "    candidates = [(new_trip, candidate) for candidate in candidates]\n",
    "#     print(candidates)\n",
    "#     for u,v in candidates:\n",
    "#         print(graph.has_edge(u,v))\n",
    "#         print(graph.has_edge(v,u))\n",
    "#         print(graph[u][v]['distance'])\n",
    "    candidates.sort(key=lambda pair: graph[pair[0]][pair[1]][matching_alg], reverse=True)\n",
    "    new_matching.add(candidates[0])\n",
    "    return new_matching"
   ]
  },
  {
   "cell_type": "code",
   "execution_count": 155,
   "metadata": {},
   "outputs": [],
   "source": [
    "def calc_profits(graph, matchings):\n",
    "#     print(graph.nodes)\n",
    "    for e in matchings:\n",
    "#         print(\"edge\", e, \"in graph?\", graph.has_edge(*e\n",
    "        pass\n",
    "    return sum([graph[node1][node2]['profit'] for node1, node2 in matchings])"
   ]
  },
  {
   "cell_type": "code",
   "execution_count": 176,
   "metadata": {},
   "outputs": [],
   "source": [
    "def calc_VKT(graph, matchings, trip_info):\n",
    "    matched_nodes = set(itertools.chain(*matchings))\n",
    "    single_trip_kms = sum([int(trip_info[node][4])/1000 for node in graph.nodes if node not in matched_nodes])\n",
    "    single_trip_time = sum([int(trip_info[node][3])/60 for node in graph.nodes if node not in matched_nodes])\n",
    "    shared_trip_kms = sum([(int(trip_info[node1][4])/1000 + int(trip_info[node2][4])/1000) - graph[node1][node2]['distance']*1609.34/1000\\\n",
    "                           for node1, node2 in matchings])\n",
    "    shared_trip_time = sum([(int(trip_info[node1][3])/60 + int(trip_info[node2][3])/60) - graph[node1][node2]['time']\\\n",
    "                           for node1, node2 in matchings])\n",
    "    total_VKT = single_trip_kms+shared_trip_kms\n",
    "    total_time = single_trip_time + shared_trip_time\n",
    "    return total_VKT/total_time"
   ]
  },
  {
   "cell_type": "code",
   "execution_count": 165,
   "metadata": {},
   "outputs": [
    {
     "name": "stdout",
     "output_type": "stream",
     "text": [
      "14981\n"
     ]
    }
   ],
   "source": [
    "market_split = 0.7\n",
    "matching_alg = 'distance'\n",
    "G = nx.read_gpickle(\"data/G_D10.p\")\n",
    "G, _ = split_graph(G, .5)\n",
    "print(len(G.nodes))\n",
    "trip_info = {}  # Key: trip_id, Value: [time,from,to,duration,length]\n",
    "with open('data/trips-114.csv') as g:\n",
    "    wt = csv.reader(g, delimiter=',')\n",
    "    for row in wt:\n",
    "        trip_info[int(row[0])] = row[1:]\n"
   ]
  },
  {
   "cell_type": "code",
   "execution_count": 177,
   "metadata": {},
   "outputs": [],
   "source": [
    "results = trip_trade(G, trip_info, market_split, matching_alg)"
   ]
  },
  {
   "cell_type": "code",
   "execution_count": 178,
   "metadata": {
    "scrolled": true
   },
   "outputs": [
    {
     "data": {
      "image/png": "[encoded data removed]",
      "text/plain": [
       "<Figure size 432x288 with 1 Axes>"
      ]
     },
     "metadata": {
      "needs_background": "light"
     },
     "output_type": "display_data"
    }
   ],
   "source": [
    "plt.plot(results['matchigs1'], label='company 1')\n",
    "plt.plot(results['matchings2'], label='company 2')\n",
    "plt.xlabel('iterations')\n",
    "plt.ylabel('matchings')\n",
    "plt.title('trip matches over iterations')\n",
    "plt.legend()\n",
    "plt.show()"
   ]
  },
  {
   "cell_type": "code",
   "execution_count": 180,
   "metadata": {},
   "outputs": [
    {
     "data": {
      "image/png": "[encoded data removed]",
      "text/plain": [
       "<Figure size 432x288 with 1 Axes>"
      ]
     },
     "metadata": {
      "needs_background": "light"
     },
     "output_type": "display_data"
    }
   ],
   "source": [
    "plt.plot(results['profits1'], label='company 1')\n",
    "plt.plot(results['profits2'], label='company 2')\n",
    "plt.xlabel('iterations')\n",
    "plt.ylabel('profit')\n",
    "plt.title(\"Profit across iterations\")\n",
    "plt.legend()\n",
    "plt.show()\n"
   ]
  },
  {
   "cell_type": "code",
   "execution_count": 182,
   "metadata": {},
   "outputs": [
    {
     "data": {
      "image/png": "[encoded data removed]",
      "text/plain": [
       "<Figure size 432x288 with 1 Axes>"
      ]
     },
     "metadata": {
      "needs_background": "light"
     },
     "output_type": "display_data"
    }
   ],
   "source": [
    "plt.plot(results['VKT1'], label='company 1')\n",
    "plt.plot(results['VKT2'], label='company 2')\n",
    "plt.xlabel('iterations')\n",
    "plt.ylabel('VKT')\n",
    "plt.title('VKT over iterations')\n",
    "plt.legend()\n",
    "plt.show()"
   ]
  }
 ],
 "metadata": {
  "kernelspec": {
   "display_name": "Python 3",
   "language": "python",
   "name": "python3"
  },
  "language_info": {
   "codemirror_mode": {
    "name": "ipython",
    "version": 3
   },
   "file_extension": ".py",
   "mimetype": "text/x-python",
   "name": "python",
   "nbconvert_exporter": "python",
   "pygments_lexer": "ipython3",
   "version": "3.7.1"
  }
 },
 "nbformat": 4,
 "nbformat_minor": 2
}
